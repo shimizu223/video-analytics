{
 "cells": [
  {
   "cell_type": "code",
   "execution_count": 1,
   "id": "4f5f6f2d",
   "metadata": {},
   "outputs": [],
   "source": [
    "import glob\n",
    "import cv2\n",
    "import numpy as np\n",
    "from PIL import Image\n",
    "import random\n",
    "import openpyxl as px\n",
    "import os\n",
    "import json"
   ]
  },
  {
   "cell_type": "code",
   "execution_count": 2,
   "id": "cbbd429d",
   "metadata": {},
   "outputs": [],
   "source": [
    "files = glob.glob(\"videos/*\")"
   ]
  },
  {
   "cell_type": "code",
   "execution_count": 85,
   "id": "234df4fe",
   "metadata": {},
   "outputs": [],
   "source": [
    "book = px.load_workbook('labels.xlsx')"
   ]
  },
  {
   "cell_type": "code",
   "execution_count": 26,
   "id": "f625ef4a",
   "metadata": {},
   "outputs": [],
   "source": [
    "cap = cv2.VideoCapture(files[0])"
   ]
  },
  {
   "cell_type": "code",
   "execution_count": 27,
   "id": "f6a94b2a",
   "metadata": {},
   "outputs": [
    {
     "data": {
      "text/plain": [
       "173430"
      ]
     },
     "execution_count": 27,
     "metadata": {},
     "output_type": "execute_result"
    }
   ],
   "source": [
    "random.randrange(cap.get(cv2.CAP_PROP_FRAME_COUNT))"
   ]
  },
  {
   "cell_type": "code",
   "execution_count": 6,
   "id": "7de0e047",
   "metadata": {},
   "outputs": [
    {
     "name": "stdout",
     "output_type": "stream",
     "text": [
      "852.0\n",
      "480.0\n",
      "29.970000977621428\n",
      "0.0\n",
      "404813.0\n"
     ]
    }
   ],
   "source": [
    "print(cap.get(cv2.CAP_PROP_FRAME_WIDTH))\n",
    "print(cap.get(cv2.CAP_PROP_FRAME_HEIGHT))\n",
    "print(cap.get(cv2.CAP_PROP_FPS))\n",
    "print(cap.get(cv2.CAP_PROP_POS_FRAMES))\n",
    "print(cap.get(cv2.CAP_PROP_FRAME_COUNT))"
   ]
  },
  {
   "cell_type": "code",
   "execution_count": 28,
   "id": "9fc511dd",
   "metadata": {},
   "outputs": [],
   "source": [
    "cap.set(cv2.CAP_PROP_POS_FRAMES, 79000)\n",
    "ret, frame1 = cap.read()"
   ]
  },
  {
   "cell_type": "code",
   "execution_count": 50,
   "id": "0927b3e4",
   "metadata": {},
   "outputs": [],
   "source": [
    "files = glob.glob(\"images2/*\")\n",
    "frame = cv2.imread(files[3])"
   ]
  },
  {
   "cell_type": "code",
   "execution_count": 60,
   "id": "437f3587",
   "metadata": {},
   "outputs": [],
   "source": [
    "for i in range(len(frame)):\n",
    "    for n in range(len(frame[i])):\n",
    "        for r in range(len(frame[i][n])):\n",
    "            if frame[i][n][r] < 100:\n",
    "                frame[i][n][r] = 0"
   ]
  },
  {
   "cell_type": "code",
   "execution_count": 61,
   "id": "1097db50",
   "metadata": {},
   "outputs": [],
   "source": [
    "frame = cv2.cvtColor(frame, cv2.COLOR_BGR2RGB)\n",
    "im=Image.fromarray(frame)\n",
    "im.show()"
   ]
  },
  {
   "cell_type": "code",
   "execution_count": null,
   "id": "4ce582ce",
   "metadata": {},
   "outputs": [],
   "source": [
    "im =pil_image.crop((157, 25,158, 26)) #boll 1\n",
    "im =pil_image.crop((168, 25,169, 26)) #boll 2\n",
    "im =pil_image.crop((180, 25,181, 26)) #boll 3\n",
    "im =pil_image.crop((157, 43,158, 44)) #strike 1\n",
    "im =pil_image.crop((168, 43,169, 44)) #strike 2\n",
    "im =pil_image.crop((157, 60,158, 61)) #out 1\n",
    "im =pil_image.crop((168, 60,169, 61)) #out 2\n",
    "im =pil_image.crop((208, 40,209, 41)) #1rui\n",
    "im =pil_image.crop((200, 32,201, 31)) #2rui\n",
    "im =pil_image.crop((190, 40,191, 41)) #3rui"
   ]
  },
  {
   "cell_type": "code",
   "execution_count": 100,
   "id": "74c6dadf",
   "metadata": {},
   "outputs": [],
   "source": [
    "r = 0\n",
    "\n",
    "for file in files:\n",
    "    cap = cv2.VideoCapture(file)\n",
    "    ran = cap.get(cv2.CAP_PROP_FRAME_COUNT)\n",
    "    for i in range(1,5):\n",
    "        cap.set(cv2.CAP_PROP_POS_FRAMES, random.randrange(cap.get(cv2.CAP_PROP_FRAME_COUNT)))\n",
    "        ret, frame = cap.read()\n",
    "        frame = cv2.cvtColor(frame, cv2.COLOR_BGR2RGB)\n",
    "        pil_image=Image.fromarray(frame)\n",
    "        im= pil_image.crop((0, 0,150, 70))\n",
    "        a = r + i\n",
    "        im.save('images/'+ str(a) + \".png\")\n",
    "    r += 99"
   ]
  },
  {
   "cell_type": "code",
   "execution_count": 102,
   "id": "a7f0e22d",
   "metadata": {},
   "outputs": [],
   "source": [
    "files2 = glob.glob(\"images/*\")"
   ]
  },
  {
   "cell_type": "code",
   "execution_count": 96,
   "id": "2792841f",
   "metadata": {},
   "outputs": [],
   "source": [
    "co = 1\n",
    "for fn in files2:\n",
    "    os.rename(fn , \"images/\" + str(co) + \".png\")\n",
    "    co +=1"
   ]
  },
  {
   "cell_type": "code",
   "execution_count": 159,
   "id": "d776549b",
   "metadata": {},
   "outputs": [],
   "source": [
    "cap = cv2.VideoCapture(files[2])\n",
    "cap.set(cv2.CAP_PROP_POS_FRAMES, 213340)\n",
    "ret, frame = cap.read()\n",
    "frame = cv2.cvtColor(frame, cv2.COLOR_BGR2RGB)\n",
    "pil_image=Image.fromarray(frame)\n",
    "im= pil_image.crop((0, 0,220, 70))\n",
    "frame1 = frame[:70,:150,:]"
   ]
  },
  {
   "cell_type": "code",
   "execution_count": 420,
   "id": "a187d349",
   "metadata": {},
   "outputs": [],
   "source": [
    "y,x = check_image(frame1)"
   ]
  },
  {
   "cell_type": "code",
   "execution_count": 421,
   "id": "88598a48",
   "metadata": {},
   "outputs": [
    {
     "data": {
      "text/plain": [
       "(14, 35)"
      ]
     },
     "execution_count": 421,
     "metadata": {},
     "output_type": "execute_result"
    }
   ],
   "source": [
    "y,x"
   ]
  },
  {
   "cell_type": "code",
   "execution_count": 422,
   "id": "04db9167",
   "metadata": {},
   "outputs": [
    {
     "data": {
      "text/plain": [
       "(1, 0, 0, 1, 1, 1, 1, 0, 0, 0)"
      ]
     },
     "execution_count": 422,
     "metadata": {},
     "output_type": "execute_result"
    }
   ],
   "source": [
    "return_score(y,x,frame)"
   ]
  },
  {
   "cell_type": "code",
   "execution_count": 361,
   "id": "1c62ad73",
   "metadata": {},
   "outputs": [],
   "source": [
    "def color_checker(rgb):\n",
    "    if rgb[0] < 40 and rgb[1] < 40 and rgb[2] < 40:\n",
    "        return \"black\"\n",
    "    if rgb[0] > 180 and rgb[1] > 180 and rgb[2] > 180:\n",
    "        return \"white\"\n",
    "    else:\n",
    "        return \"else\""
   ]
  },
  {
   "cell_type": "code",
   "execution_count": 339,
   "id": "9ff0333d",
   "metadata": {},
   "outputs": [],
   "source": [
    "def check_image(frame):\n",
    "    for i in range(len(frame)):\n",
    "        frame_line = []\n",
    "        for r in frame[i]:\n",
    "            frame_line.append(color_checker(r))\n",
    "        cob = 0\n",
    "        cow = 0\n",
    "        flag = False\n",
    "        for n in range(len(frame_line)):\n",
    "            if frame_line[n] == \"black\":\n",
    "                cob += 1\n",
    "                if cob == 1:\n",
    "                    x = n\n",
    "            elif frame_line[n] == \"white\":\n",
    "                cow += 1\n",
    "            else:\n",
    "                cob = 0\n",
    "                cow = 0\n",
    "            if cob >= 18:\n",
    "                flag = True\n",
    "                x_t = x\n",
    "            if cow > 50 and flag:\n",
    "                return i,x_t\n",
    "    return None,None"
   ]
  },
  {
   "cell_type": "code",
   "execution_count": 402,
   "id": "f60a3f0f",
   "metadata": {},
   "outputs": [],
   "source": [
    "def return_score(y,x,frame):\n",
    "    b1 = 0\n",
    "    b2 = 0\n",
    "    b3 = 0\n",
    "    s1 = 0\n",
    "    s2 = 0\n",
    "    o1 = 0\n",
    "    o2 = 0\n",
    "    base1 = 0\n",
    "    base2 = 0\n",
    "    base3 = 0\n",
    "    \n",
    "    if frame[9+y][121+x][1] > 130:\n",
    "        b1 = 1\n",
    "    if frame[9+y][132+x][1] > 130:\n",
    "        b2 = 1\n",
    "    if frame[9+y][142+x][1] > 130:\n",
    "        b3 = 1\n",
    "    if frame[26+y][121+x][0] > 130:\n",
    "        s1 = 1\n",
    "    if frame[26+y][132+x][0] > 130:\n",
    "        s2 = 1\n",
    "    if frame[42+y][121+x][0] > 130:\n",
    "        o1 = 1\n",
    "    if frame[42+y][132+x][0] > 130:\n",
    "        o2 = 1\n",
    "    if frame[23+y][171+x][0] > 130:\n",
    "        base1 = 1\n",
    "    if frame[14+y][161+x][0] > 130:\n",
    "        base2 = 1\n",
    "    if frame[23+y][152+x][0] > 130:\n",
    "        base3 = 1\n",
    "        \n",
    "    return b1,b2,b3,s1,s2,o1,o2,base1,base2,base3"
   ]
  },
  {
   "cell_type": "code",
   "execution_count": 4,
   "id": "7ae8ac1a",
   "metadata": {},
   "outputs": [],
   "source": [
    "json_open = open('bbdb.v0.9.min.json', 'r')"
   ]
  },
  {
   "cell_type": "code",
   "execution_count": 5,
   "id": "4b56fbd7",
   "metadata": {},
   "outputs": [],
   "source": [
    "json_load = json.load(json_open)"
   ]
  },
  {
   "cell_type": "code",
   "execution_count": 6,
   "id": "ed71677f",
   "metadata": {},
   "outputs": [],
   "source": [
    "cap = cv2.VideoCapture(files[0])"
   ]
  },
  {
   "cell_type": "code",
   "execution_count": 7,
   "id": "ed9749f0",
   "metadata": {},
   "outputs": [
    {
     "data": {
      "text/plain": [
       "[989.534, 994.534]"
      ]
     },
     "execution_count": 7,
     "metadata": {},
     "output_type": "execute_result"
    }
   ],
   "source": [
    "json_load[\"database\"][os.path.splitext(os.path.basename(files[0]))[0]][\"annotations\"][0][\"segment\"]"
   ]
  },
  {
   "cell_type": "code",
   "execution_count": 57,
   "id": "adfe6b32",
   "metadata": {},
   "outputs": [],
   "source": [
    "cap.set(cv2.CAP_PROP_POS_FRAMES, 1011.534 * cap.get(cv2.CAP_PROP_FPS))\n",
    "ret, frame1 = cap.read()\n",
    "frame = cv2.cvtColor(frame1, cv2.COLOR_BGR2RGB)\n",
    "pil_image=Image.fromarray(frame)\n",
    "pil_image.show()"
   ]
  },
  {
   "cell_type": "code",
   "execution_count": 58,
   "id": "af28fa92",
   "metadata": {},
   "outputs": [],
   "source": [
    "diff = 5\n",
    "for r in range(16):\n",
    "    cap.set(cv2.CAP_PROP_POS_FRAMES, 989.534 * cap.get(cv2.CAP_PROP_FPS) + diff * r)\n",
    "    ret, frame1 = cap.read()\n",
    "    frame = cv2.cvtColor(frame1, cv2.COLOR_BGR2RGB)\n",
    "    pil_image=Image.fromarray(frame)\n",
    "    pil_image.show()"
   ]
  },
  {
   "cell_type": "code",
   "execution_count": 113,
   "id": "cdc2559e",
   "metadata": {},
   "outputs": [],
   "source": [
    "def make_data(video):\n",
    "    cap = cv2.VideoCapture(video)\n",
    "    json_open = open('bbdb.v0.9.min.json', 'r')\n",
    "    json_load = json.load(json_open)\n",
    "    labels = json_load[\"database\"][os.path.splitext(os.path.basename(video))[0]][\"annotations\"]\n",
    "    X_train = np.zeros((32, 16, 480 , 852 , 3))\n",
    "    for i in range(32):\n",
    "        diff = labels[i][\"segment\"][1] - labels[i][\"segment\"][0]\n",
    "        for r in range(16):\n",
    "            cap.set(cv2.CAP_PROP_POS_FRAMES, labels[i][\"segment\"][0] * cap.get(cv2.CAP_PROP_FPS) + diff * r)\n",
    "            ret, frame = cap.read()\n",
    "            X_train[i,r,:] = frame\n",
    "    return X_train"
   ]
  },
  {
   "cell_type": "code",
   "execution_count": 114,
   "id": "12ab01cc",
   "metadata": {},
   "outputs": [],
   "source": [
    "inp = make_data(files[0])"
   ]
  },
  {
   "cell_type": "code",
   "execution_count": 164,
   "id": "3e13964c",
   "metadata": {},
   "outputs": [
    {
     "data": {
      "text/plain": [
       "(16, 480, 852, 3)"
      ]
     },
     "execution_count": 164,
     "metadata": {},
     "output_type": "execute_result"
    }
   ],
   "source": [
    "inp.shape[1:]"
   ]
  },
  {
   "cell_type": "code",
   "execution_count": 26,
   "id": "e4209fb9",
   "metadata": {},
   "outputs": [],
   "source": [
    "labels = json_load[\"database\"][os.path.splitext(os.path.basename(files[0]))[0]]"
   ]
  },
  {
   "cell_type": "code",
   "execution_count": 17,
   "id": "ee04827a",
   "metadata": {
    "scrolled": true
   },
   "outputs": [
    {
     "name": "stdout",
     "output_type": "stream",
     "text": [
      "['Ball', 'Strike', 'Base on balls', 'Error', 'Homerun', 'Home in', 'Foul', 'Two-base hit', 'Bunt foul', 'Touch out', 'Swing and a miss', 'Fly out', 'Ground out', 'One-base hit', 'Strike out', 'Stealing base', 'Three-base hit', 'Hit by pitch', 'Line-drive out', 'Double play']\n"
     ]
    }
   ],
   "source": [
    "types = []\n",
    "for i in labels:\n",
    "    if  i[\"label\"] not in types:\n",
    "        types.append(i[\"label\"])\n",
    "print(types)"
   ]
  },
  {
   "cell_type": "code",
   "execution_count": null,
   "id": "77897df3",
   "metadata": {},
   "outputs": [],
   "source": [
    "    model = Sequential()\n",
    "    model.add(Conv3D(32, kernel_size=(3, 3, 3), input_shape=(\n",
    "        X.shape[1:]), border_mode='same'))\n",
    "    model.add(Activation('relu'))\n",
    "    model.add(Conv3D(32, kernel_size=(3, 3, 3), border_mode='same'))\n",
    "    model.add(Activation('softmax'))\n",
    "    model.add(MaxPooling3D(pool_size=(3, 3, 3), border_mode='same'))\n",
    "    model.add(Dropout(0.25))\n",
    "\n",
    "    model.add(Conv3D(64, kernel_size=(3, 3, 3), border_mode='same'))\n",
    "    model.add(Activation('relu'))\n",
    "    model.add(Conv3D(64, kernel_size=(3, 3, 3), border_mode='same'))\n",
    "    model.add(Activation('softmax'))\n",
    "    model.add(MaxPooling3D(pool_size=(3, 3, 3), border_mode='same'))\n",
    "    model.add(Dropout(0.25))\n",
    "\n",
    "    model.add(Flatten())\n",
    "    model.add(Dense(512, activation='sigmoid'))\n",
    "    model.add(Dropout(0.5))\n",
    "    model.add(Dense(nb_classes, activation='softmax'))\n",
    "\n",
    "    model.compile(loss=categorical_crossentropy,\n",
    "                  optimizer=Adam(), metrics=['accuracy'])\n",
    "    model.summary()"
   ]
  }
 ],
 "metadata": {
  "kernelspec": {
   "display_name": "Python 3",
   "language": "python",
   "name": "python3"
  },
  "language_info": {
   "codemirror_mode": {
    "name": "ipython",
    "version": 3
   },
   "file_extension": ".py",
   "mimetype": "text/x-python",
   "name": "python",
   "nbconvert_exporter": "python",
   "pygments_lexer": "ipython3",
   "version": "3.8.8"
  }
 },
 "nbformat": 4,
 "nbformat_minor": 5
}
